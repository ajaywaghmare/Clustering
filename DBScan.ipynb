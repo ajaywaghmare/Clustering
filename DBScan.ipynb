{
 "cells": [
  {
   "cell_type": "code",
   "execution_count": 95,
   "metadata": {},
   "outputs": [],
   "source": [
    "# import libraries\n",
    "import numpy as np\n",
    "import pandas as pd\n",
    "from sklearn.datasets import fetch_openml\n",
    "import matplotlib.pyplot as plt\n",
    "from sklearn.cluster import DBSCAN\n",
    "from sklearn.metrics import f1_score\n",
    "from sklearn.metrics.cluster import adjusted_rand_score\n",
    "from sklearn.preprocessing import StandardScaler\n",
    "from sklearn.metrics import silhouette_score"
   ]
  },
  {
   "cell_type": "code",
   "execution_count": 96,
   "metadata": {},
   "outputs": [
    {
     "name": "stderr",
     "output_type": "stream",
     "text": [
      "C:\\Users\\aj\\Anaconda3\\lib\\site-packages\\sklearn\\datasets\\openml.py:305: UserWarning: Multiple active versions of the dataset matching the name glass exist. Versions may be fundamentally different, returning version 1.\n",
      "  \" {version}.\".format(name=name, version=res[0]['version']))\n"
     ]
    }
   ],
   "source": [
    "#Import iris dataset\n",
    "glass = fetch_openml(name='glass')"
   ]
  },
  {
   "cell_type": "code",
   "execution_count": 97,
   "metadata": {},
   "outputs": [
    {
     "name": "stdout",
     "output_type": "stream",
     "text": [
      "{'data': array([[ 1.51793, 12.79   ,  3.5    , ...,  8.77   ,  0.     ,  0.     ],\n",
      "       [ 1.51643, 12.16   ,  3.52   , ...,  8.53   ,  0.     ,  0.     ],\n",
      "       [ 1.51793, 13.21   ,  3.48   , ...,  8.43   ,  0.     ,  0.     ],\n",
      "       ...,\n",
      "       [ 1.51613, 13.92   ,  3.52   , ...,  7.94   ,  0.     ,  0.14   ],\n",
      "       [ 1.51689, 12.67   ,  2.88   , ...,  8.54   ,  0.     ,  0.     ],\n",
      "       [ 1.51852, 14.09   ,  2.19   , ...,  9.32   ,  0.     ,  0.     ]]), 'target': array(['build wind float', 'vehic wind float', 'build wind float',\n",
      "       'tableware', 'build wind non-float', 'build wind non-float',\n",
      "       'vehic wind float', 'build wind float', 'headlamps',\n",
      "       'build wind non-float', 'build wind non-float',\n",
      "       'build wind non-float', 'build wind float', 'vehic wind float',\n",
      "       'vehic wind float', 'build wind non-float', 'headlamps',\n",
      "       'build wind non-float', 'containers', 'build wind non-float',\n",
      "       'build wind float', 'build wind non-float', 'build wind non-float',\n",
      "       'build wind float', 'containers', 'build wind non-float',\n",
      "       'build wind non-float', 'headlamps', 'build wind non-float',\n",
      "       'vehic wind float', 'build wind non-float', 'vehic wind float',\n",
      "       'tableware', 'build wind non-float', 'build wind float',\n",
      "       'build wind float', 'build wind float', 'build wind non-float',\n",
      "       'build wind non-float', 'build wind non-float', 'build wind float',\n",
      "       'build wind non-float', 'build wind non-float',\n",
      "       'build wind non-float', 'vehic wind float', 'build wind float',\n",
      "       'containers', 'build wind float', 'build wind float',\n",
      "       'build wind non-float', 'build wind float', 'build wind non-float',\n",
      "       'build wind float', 'build wind non-float', 'headlamps',\n",
      "       'build wind float', 'headlamps', 'build wind float',\n",
      "       'vehic wind float', 'build wind non-float', 'build wind non-float',\n",
      "       'build wind float', 'build wind float', 'build wind float',\n",
      "       'build wind float', 'headlamps', 'build wind float',\n",
      "       'vehic wind float', 'build wind non-float', 'build wind float',\n",
      "       'tableware', 'build wind non-float', 'tableware',\n",
      "       'build wind non-float', 'build wind float', 'build wind non-float',\n",
      "       'build wind float', 'build wind float', 'vehic wind float',\n",
      "       'build wind float', 'build wind float', 'build wind float',\n",
      "       'vehic wind float', 'build wind float', 'containers',\n",
      "       'build wind non-float', 'build wind non-float', 'build wind float',\n",
      "       'build wind float', 'build wind non-float', 'headlamps',\n",
      "       'build wind float', 'build wind float', 'tableware', 'headlamps',\n",
      "       'build wind float', 'headlamps', 'build wind non-float',\n",
      "       'build wind non-float', 'build wind non-float', 'build wind float',\n",
      "       'build wind non-float', 'headlamps', 'headlamps', 'headlamps',\n",
      "       'containers', 'build wind non-float', 'headlamps',\n",
      "       'build wind float', 'containers', 'build wind non-float',\n",
      "       'headlamps', 'build wind float', 'headlamps', 'vehic wind float',\n",
      "       'headlamps', 'build wind non-float', 'headlamps',\n",
      "       'build wind non-float', 'build wind float', 'build wind non-float',\n",
      "       'build wind float', 'build wind non-float', 'build wind non-float',\n",
      "       'containers', 'build wind float', 'headlamps', 'headlamps',\n",
      "       'build wind float', 'build wind float', 'build wind non-float',\n",
      "       'build wind non-float', 'headlamps', 'build wind float',\n",
      "       'containers', 'build wind float', 'build wind float',\n",
      "       'build wind non-float', 'build wind float', 'build wind non-float',\n",
      "       'build wind float', 'build wind float', 'build wind float',\n",
      "       'containers', 'build wind non-float', 'build wind non-float',\n",
      "       'build wind non-float', 'build wind non-float',\n",
      "       'build wind non-float', 'build wind non-float', 'headlamps',\n",
      "       'build wind float', 'build wind non-float', 'build wind non-float',\n",
      "       'vehic wind float', 'build wind float', 'headlamps', 'containers',\n",
      "       'build wind float', 'build wind non-float', 'build wind non-float',\n",
      "       'build wind float', 'headlamps', 'containers',\n",
      "       'build wind non-float', 'build wind float', 'build wind float',\n",
      "       'build wind non-float', 'build wind non-float', 'headlamps',\n",
      "       'build wind non-float', 'build wind non-float', 'build wind float',\n",
      "       'headlamps', 'build wind float', 'headlamps', 'build wind float',\n",
      "       'build wind float', 'containers', 'tableware',\n",
      "       'build wind non-float', 'build wind non-float', 'vehic wind float',\n",
      "       'build wind non-float', 'build wind float', 'headlamps',\n",
      "       'build wind float', 'build wind float', 'vehic wind float',\n",
      "       'containers', 'build wind float', 'build wind float', 'tableware',\n",
      "       'headlamps', 'tableware', 'build wind non-float',\n",
      "       'build wind non-float', 'build wind non-float',\n",
      "       'build wind non-float', 'build wind non-float',\n",
      "       'build wind non-float', 'build wind float', 'vehic wind float',\n",
      "       'build wind float', 'build wind non-float', 'build wind float',\n",
      "       'headlamps', 'build wind float', 'build wind float',\n",
      "       'vehic wind float', 'build wind non-float', 'build wind non-float',\n",
      "       'build wind non-float', 'tableware'], dtype=object), 'feature_names': ['RI', 'Na', 'Mg', 'Al', 'Si', 'K', 'Ca', 'Ba', 'Fe'], 'DESCR': '**Author**: B. German  \\n**Source**: [UCI Machine Learning Repository](https://archive.ics.uci.edu/ml/datasets/glass+identification) - 1987-09-01  \\n**Please cite**: [UCI citation policy](https://archive.ics.uci.edu/ml/citation_policy.html)  \\n\\n1. Title: Glass Identification Database\\n \\n 2. Sources:\\n     (a) Creator: B. German\\n         -- Central Research Establishment\\n            Home Office Forensic Science Service\\n            Aldermaston, Reading, Berkshire RG7 4PN\\n     (b) Donor: Vina Spiehler, Ph.D., DABFT\\n                Diagnostic Products Corporation\\n                (213) 776-0180 (ext 3014)\\n     (c) Date: September, 1987\\n \\n 3. Past Usage:\\n     -- Rule Induction in Forensic Science\\n        -- Ian W. Evett and Ernest J. Spiehler\\n        -- Central Research Establishment\\n           Home Office Forensic Science Service\\n           Aldermaston, Reading, Berkshire RG7 4PN\\n        -- Unknown technical note number (sorry, not listed here)\\n        -- General Results: nearest neighbor held its own with respect to the\\n              rule-based system\\n \\n 4. Relevant Information:n\\n       Vina conducted a comparison test of her rule-based system, BEAGLE, the\\n       nearest-neighbor algorithm, and discriminant analysis.  BEAGLE is \\n       a product available through VRS Consulting, Inc.; 4676 Admiralty Way,\\n       Suite 206; Marina Del Ray, CA 90292 (213) 827-7890 and FAX: -3189.\\n       In determining whether the glass was a type of \"float\" glass or not,\\n       the following results were obtained (# incorrect answers):\\n \\n              Type of Sample                            Beagle   NN    DA\\n              Windows that were float processed (87)     10      12    21\\n              Windows that were not:            (76)     19      16    22\\n \\n       The study of classification of types of glass was motivated by \\n       criminological investigation.  At the scene of the crime, the glass left\\n       can be used as evidence...if it is correctly identified!\\n \\n 5. Number of Instances: 214\\n \\n 6. Number of Attributes: 10 (including an Id#) plus the class attribute\\n    -- all attributes are continuously valued\\n \\n 7. Attribute Information:\\n    1. Id number: 1 to 214\\n    2. RI: refractive index\\n    3. Na: Sodium (unit measurement: weight percent in corresponding oxide, as \\n                   are attributes 4-10)\\n    4. Mg: Magnesium\\n    5. Al: Aluminum\\n    6. Si: Silicon\\n    7. K: Potassium\\n    8. Ca: Calcium\\n    9. Ba: Barium\\n   10. Fe: Iron\\n   11. Type of glass: (class attribute)\\n       -- 1 building_windows_float_processed\\n       -- 2 building_windows_non_float_processed\\n       -- 3 vehicle_windows_float_processed\\n       -- 4 vehicle_windows_non_float_processed (none in this database)\\n       -- 5 containers\\n       -- 6 tableware\\n       -- 7 headlamps\\n \\n 8. Missing Attribute Values: None\\n \\n Summary Statistics:\\n Attribute:   Min     Max      Mean     SD      Correlation with class\\n  2. RI:       1.5112  1.5339   1.5184  0.0030  -0.1642\\n  3. Na:      10.73   17.38    13.4079  0.8166   0.5030\\n  4. Mg:       0       4.49     2.6845  1.4424  -0.7447\\n  5. Al:       0.29    3.5      1.4449  0.4993   0.5988\\n  6. Si:      69.81   75.41    72.6509  0.7745   0.1515\\n  7. K:        0       6.21     0.4971  0.6522  -0.0100\\n  8. Ca:       5.43   16.19     8.9570  1.4232   0.0007\\n  9. Ba:       0       3.15     0.1750  0.4972   0.5751\\n 10. Fe:       0       0.51     0.0570  0.0974  -0.1879\\n \\n 9. Class Distribution: (out of 214 total instances)\\n     -- 163 Window glass (building windows and vehicle windows)\\n        -- 87 float processed  \\n           -- 70 building windows\\n           -- 17 vehicle windows\\n        -- 76 non-float processed\\n           -- 76 building windows\\n           -- 0 vehicle windows\\n     -- 51 Non-window glass\\n        -- 13 containers\\n        -- 9 tableware\\n        -- 29 headlamps\\n \\n \\n \\n\\n\\n\\n\\n Relabeled values in attribute \\'Type\\'\\n    From: \\'1\\'                     To: \\'build wind float\\'    \\n    From: \\'2\\'                     To: \\'build wind non-float\\'\\n    From: \\'3\\'                     To: \\'vehic wind float\\'    \\n    From: \\'4\\'                     To: \\'vehic wind non-float\\'\\n    From: \\'5\\'                     To: containers          \\n    From: \\'6\\'                     To: tableware           \\n    From: \\'7\\'                     To: headlamps\\n\\nDownloaded from openml.org.', 'details': {'id': '41', 'name': 'glass', 'version': '1', 'format': 'ARFF', 'creator': 'B. German', 'collection_date': '1987-09-01', 'upload_date': '2014-04-06T23:22:26', 'language': 'English', 'licence': 'Public', 'url': 'https://www.openml.org/data/v1/download/41/glass.arff', 'file_id': '41', 'default_target_attribute': 'Type', 'version_label': '1', 'citation': 'https://archive.ics.uci.edu/ml/citation_policy.html', 'tag': ['study_1', 'study_41', 'study_7', 'study_76', 'study_88', 'uci'], 'visibility': 'public', 'original_data_url': 'https://archive.ics.uci.edu/ml/datasets/glass+identification', 'paper_url': 'https://dl.acm.org/doi/abs/10.5555/67040.67055', 'status': 'active', 'processing_date': '2020-11-20 20:02:43', 'md5_checksum': 'd38f2d5484e30ec447bbd8b6d3354460'}, 'categories': {}, 'url': 'https://www.openml.org/d/41'}\n"
     ]
    }
   ],
   "source": [
    "print(glass)"
   ]
  },
  {
   "cell_type": "code",
   "execution_count": 98,
   "metadata": {},
   "outputs": [
    {
     "name": "stdout",
     "output_type": "stream",
     "text": [
      "['build wind float' 'vehic wind float' 'build wind float' 'tableware'\n",
      " 'build wind non-float' 'build wind non-float' 'vehic wind float'\n",
      " 'build wind float' 'headlamps' 'build wind non-float'\n",
      " 'build wind non-float' 'build wind non-float' 'build wind float'\n",
      " 'vehic wind float' 'vehic wind float' 'build wind non-float' 'headlamps'\n",
      " 'build wind non-float' 'containers' 'build wind non-float'\n",
      " 'build wind float' 'build wind non-float' 'build wind non-float'\n",
      " 'build wind float' 'containers' 'build wind non-float'\n",
      " 'build wind non-float' 'headlamps' 'build wind non-float'\n",
      " 'vehic wind float' 'build wind non-float' 'vehic wind float' 'tableware'\n",
      " 'build wind non-float' 'build wind float' 'build wind float'\n",
      " 'build wind float' 'build wind non-float' 'build wind non-float'\n",
      " 'build wind non-float' 'build wind float' 'build wind non-float'\n",
      " 'build wind non-float' 'build wind non-float' 'vehic wind float'\n",
      " 'build wind float' 'containers' 'build wind float' 'build wind float'\n",
      " 'build wind non-float' 'build wind float' 'build wind non-float'\n",
      " 'build wind float' 'build wind non-float' 'headlamps' 'build wind float'\n",
      " 'headlamps' 'build wind float' 'vehic wind float' 'build wind non-float'\n",
      " 'build wind non-float' 'build wind float' 'build wind float'\n",
      " 'build wind float' 'build wind float' 'headlamps' 'build wind float'\n",
      " 'vehic wind float' 'build wind non-float' 'build wind float' 'tableware'\n",
      " 'build wind non-float' 'tableware' 'build wind non-float'\n",
      " 'build wind float' 'build wind non-float' 'build wind float'\n",
      " 'build wind float' 'vehic wind float' 'build wind float'\n",
      " 'build wind float' 'build wind float' 'vehic wind float'\n",
      " 'build wind float' 'containers' 'build wind non-float'\n",
      " 'build wind non-float' 'build wind float' 'build wind float'\n",
      " 'build wind non-float' 'headlamps' 'build wind float' 'build wind float'\n",
      " 'tableware' 'headlamps' 'build wind float' 'headlamps'\n",
      " 'build wind non-float' 'build wind non-float' 'build wind non-float'\n",
      " 'build wind float' 'build wind non-float' 'headlamps' 'headlamps'\n",
      " 'headlamps' 'containers' 'build wind non-float' 'headlamps'\n",
      " 'build wind float' 'containers' 'build wind non-float' 'headlamps'\n",
      " 'build wind float' 'headlamps' 'vehic wind float' 'headlamps'\n",
      " 'build wind non-float' 'headlamps' 'build wind non-float'\n",
      " 'build wind float' 'build wind non-float' 'build wind float'\n",
      " 'build wind non-float' 'build wind non-float' 'containers'\n",
      " 'build wind float' 'headlamps' 'headlamps' 'build wind float'\n",
      " 'build wind float' 'build wind non-float' 'build wind non-float'\n",
      " 'headlamps' 'build wind float' 'containers' 'build wind float'\n",
      " 'build wind float' 'build wind non-float' 'build wind float'\n",
      " 'build wind non-float' 'build wind float' 'build wind float'\n",
      " 'build wind float' 'containers' 'build wind non-float'\n",
      " 'build wind non-float' 'build wind non-float' 'build wind non-float'\n",
      " 'build wind non-float' 'build wind non-float' 'headlamps'\n",
      " 'build wind float' 'build wind non-float' 'build wind non-float'\n",
      " 'vehic wind float' 'build wind float' 'headlamps' 'containers'\n",
      " 'build wind float' 'build wind non-float' 'build wind non-float'\n",
      " 'build wind float' 'headlamps' 'containers' 'build wind non-float'\n",
      " 'build wind float' 'build wind float' 'build wind non-float'\n",
      " 'build wind non-float' 'headlamps' 'build wind non-float'\n",
      " 'build wind non-float' 'build wind float' 'headlamps' 'build wind float'\n",
      " 'headlamps' 'build wind float' 'build wind float' 'containers'\n",
      " 'tableware' 'build wind non-float' 'build wind non-float'\n",
      " 'vehic wind float' 'build wind non-float' 'build wind float' 'headlamps'\n",
      " 'build wind float' 'build wind float' 'vehic wind float' 'containers'\n",
      " 'build wind float' 'build wind float' 'tableware' 'headlamps' 'tableware'\n",
      " 'build wind non-float' 'build wind non-float' 'build wind non-float'\n",
      " 'build wind non-float' 'build wind non-float' 'build wind non-float'\n",
      " 'build wind float' 'vehic wind float' 'build wind float'\n",
      " 'build wind non-float' 'build wind float' 'headlamps' 'build wind float'\n",
      " 'build wind float' 'vehic wind float' 'build wind non-float'\n",
      " 'build wind non-float' 'build wind non-float' 'tableware']\n"
     ]
    }
   ],
   "source": [
    "# Have a look at the dataset\n",
    "print(glass.target)"
   ]
  },
  {
   "cell_type": "code",
   "execution_count": 99,
   "metadata": {},
   "outputs": [
    {
     "data": {
      "text/plain": [
       "'https://www.openml.org/d/41'"
      ]
     },
     "execution_count": 99,
     "metadata": {},
     "output_type": "execute_result"
    }
   ],
   "source": [
    "# Dataset URL\n",
    "glass.url"
   ]
  },
  {
   "cell_type": "code",
   "execution_count": 100,
   "metadata": {},
   "outputs": [
    {
     "data": {
      "text/plain": [
       "(214, 9)"
      ]
     },
     "execution_count": 100,
     "metadata": {},
     "output_type": "execute_result"
    }
   ],
   "source": [
    "# Non graphical EDA\n",
    "glass.data.shape"
   ]
  },
  {
   "cell_type": "code",
   "execution_count": 101,
   "metadata": {},
   "outputs": [
    {
     "data": {
      "text/plain": [
       "(214,)"
      ]
     },
     "execution_count": 101,
     "metadata": {},
     "output_type": "execute_result"
    }
   ],
   "source": [
    "# Non graphical EDA\n",
    "glass.target.shape"
   ]
  },
  {
   "cell_type": "code",
   "execution_count": 102,
   "metadata": {},
   "outputs": [
    {
     "data": {
      "text/plain": [
       "array(['build wind float', 'build wind non-float', 'containers',\n",
       "       'headlamps', 'tableware', 'vehic wind float'], dtype=object)"
      ]
     },
     "execution_count": 102,
     "metadata": {},
     "output_type": "execute_result"
    }
   ],
   "source": [
    "# Non graphical EDA\n",
    "np.unique(glass.target)"
   ]
  },
  {
   "cell_type": "code",
   "execution_count": 103,
   "metadata": {},
   "outputs": [
    {
     "data": {
      "text/plain": [
       "'**Author**: B. German  \\n**Source**: [UCI Machine Learning Repository](https://archive.ics.uci.edu/ml/datasets/glass+identification) - 1987-09-01  \\n**Please cite**: [UCI citation policy](https://archive.ics.uci.edu/ml/citation_policy.html)  \\n\\n1. Title: Glass Identification Database\\n \\n 2. Sources:\\n     (a) Creator: B. German\\n         -- Central Research Establishment\\n            Home Office Forensic Science Service\\n            Aldermaston, Reading, Berkshire RG7 4PN\\n     (b) Donor: Vina Spiehler, Ph.D., DABFT\\n                Diagnostic Products Corporation\\n                (213) 776-0180 (ext 3014)\\n     (c) Date: September, 1987\\n \\n 3. Past Usage:\\n     -- Rule Induction in Forensic Science\\n        -- Ian W. Evett and Ernest J. Spiehler\\n        -- Central Research Establishment\\n           Home Office Forensic Science Service\\n           Aldermaston, Reading, Berkshire RG7 4PN\\n        -- Unknown technical note number (sorry, not listed here)\\n        -- General Results: nearest neighbor held its own with respect to the\\n              rule-based system\\n \\n 4. Relevant Information:n\\n       Vina conducted a comparison test of her rule-based system, BEAGLE, the\\n       nearest-neighbor algorithm, and discriminant analysis.  BEAGLE is \\n       a product available through VRS Consulting, Inc.; 4676 Admiralty Way,\\n       Suite 206; Marina Del Ray, CA 90292 (213) 827-7890 and FAX: -3189.\\n       In determining whether the glass was a type of \"float\" glass or not,\\n       the following results were obtained (# incorrect answers):\\n \\n              Type of Sample                            Beagle   NN    DA\\n              Windows that were float processed (87)     10      12    21\\n              Windows that were not:            (76)     19      16    22\\n \\n       The study of classification of types of glass was motivated by \\n       criminological investigation.  At the scene of the crime, the glass left\\n       can be used as evidence...if it is correctly identified!\\n \\n 5. Number of Instances: 214\\n \\n 6. Number of Attributes: 10 (including an Id#) plus the class attribute\\n    -- all attributes are continuously valued\\n \\n 7. Attribute Information:\\n    1. Id number: 1 to 214\\n    2. RI: refractive index\\n    3. Na: Sodium (unit measurement: weight percent in corresponding oxide, as \\n                   are attributes 4-10)\\n    4. Mg: Magnesium\\n    5. Al: Aluminum\\n    6. Si: Silicon\\n    7. K: Potassium\\n    8. Ca: Calcium\\n    9. Ba: Barium\\n   10. Fe: Iron\\n   11. Type of glass: (class attribute)\\n       -- 1 building_windows_float_processed\\n       -- 2 building_windows_non_float_processed\\n       -- 3 vehicle_windows_float_processed\\n       -- 4 vehicle_windows_non_float_processed (none in this database)\\n       -- 5 containers\\n       -- 6 tableware\\n       -- 7 headlamps\\n \\n 8. Missing Attribute Values: None\\n \\n Summary Statistics:\\n Attribute:   Min     Max      Mean     SD      Correlation with class\\n  2. RI:       1.5112  1.5339   1.5184  0.0030  -0.1642\\n  3. Na:      10.73   17.38    13.4079  0.8166   0.5030\\n  4. Mg:       0       4.49     2.6845  1.4424  -0.7447\\n  5. Al:       0.29    3.5      1.4449  0.4993   0.5988\\n  6. Si:      69.81   75.41    72.6509  0.7745   0.1515\\n  7. K:        0       6.21     0.4971  0.6522  -0.0100\\n  8. Ca:       5.43   16.19     8.9570  1.4232   0.0007\\n  9. Ba:       0       3.15     0.1750  0.4972   0.5751\\n 10. Fe:       0       0.51     0.0570  0.0974  -0.1879\\n \\n 9. Class Distribution: (out of 214 total instances)\\n     -- 163 Window glass (building windows and vehicle windows)\\n        -- 87 float processed  \\n           -- 70 building windows\\n           -- 17 vehicle windows\\n        -- 76 non-float processed\\n           -- 76 building windows\\n           -- 0 vehicle windows\\n     -- 51 Non-window glass\\n        -- 13 containers\\n        -- 9 tableware\\n        -- 29 headlamps\\n \\n \\n \\n\\n\\n\\n\\n Relabeled values in attribute \\'Type\\'\\n    From: \\'1\\'                     To: \\'build wind float\\'    \\n    From: \\'2\\'                     To: \\'build wind non-float\\'\\n    From: \\'3\\'                     To: \\'vehic wind float\\'    \\n    From: \\'4\\'                     To: \\'vehic wind non-float\\'\\n    From: \\'5\\'                     To: containers          \\n    From: \\'6\\'                     To: tableware           \\n    From: \\'7\\'                     To: headlamps\\n\\nDownloaded from openml.org.'"
      ]
     },
     "execution_count": 103,
     "metadata": {},
     "output_type": "execute_result"
    }
   ],
   "source": [
    "# Non graphical EDA\n",
    "glass.DESCR"
   ]
  },
  {
   "cell_type": "code",
   "execution_count": 104,
   "metadata": {},
   "outputs": [
    {
     "data": {
      "text/plain": [
       "{'id': '41',\n",
       " 'name': 'glass',\n",
       " 'version': '1',\n",
       " 'format': 'ARFF',\n",
       " 'creator': 'B. German',\n",
       " 'collection_date': '1987-09-01',\n",
       " 'upload_date': '2014-04-06T23:22:26',\n",
       " 'language': 'English',\n",
       " 'licence': 'Public',\n",
       " 'url': 'https://www.openml.org/data/v1/download/41/glass.arff',\n",
       " 'file_id': '41',\n",
       " 'default_target_attribute': 'Type',\n",
       " 'version_label': '1',\n",
       " 'citation': 'https://archive.ics.uci.edu/ml/citation_policy.html',\n",
       " 'tag': ['study_1', 'study_41', 'study_7', 'study_76', 'study_88', 'uci'],\n",
       " 'visibility': 'public',\n",
       " 'original_data_url': 'https://archive.ics.uci.edu/ml/datasets/glass+identification',\n",
       " 'paper_url': 'https://dl.acm.org/doi/abs/10.5555/67040.67055',\n",
       " 'status': 'active',\n",
       " 'processing_date': '2020-11-20 20:02:43',\n",
       " 'md5_checksum': 'd38f2d5484e30ec447bbd8b6d3354460'}"
      ]
     },
     "execution_count": 104,
     "metadata": {},
     "output_type": "execute_result"
    }
   ],
   "source": [
    "# Non graphical EDA\n",
    "glass.details"
   ]
  },
  {
   "cell_type": "code",
   "execution_count": 105,
   "metadata": {},
   "outputs": [
    {
     "data": {
      "text/html": [
       "<div>\n",
       "<style scoped>\n",
       "    .dataframe tbody tr th:only-of-type {\n",
       "        vertical-align: middle;\n",
       "    }\n",
       "\n",
       "    .dataframe tbody tr th {\n",
       "        vertical-align: top;\n",
       "    }\n",
       "\n",
       "    .dataframe thead th {\n",
       "        text-align: right;\n",
       "    }\n",
       "</style>\n",
       "<table border=\"1\" class=\"dataframe\">\n",
       "  <thead>\n",
       "    <tr style=\"text-align: right;\">\n",
       "      <th></th>\n",
       "      <th>1</th>\n",
       "      <th>2</th>\n",
       "      <th>3</th>\n",
       "      <th>4</th>\n",
       "      <th>5</th>\n",
       "      <th>6</th>\n",
       "      <th>7</th>\n",
       "      <th>8</th>\n",
       "      <th>9</th>\n",
       "    </tr>\n",
       "  </thead>\n",
       "  <tbody>\n",
       "    <tr>\n",
       "      <th>1</th>\n",
       "      <td>1.51793</td>\n",
       "      <td>12.79</td>\n",
       "      <td>3.50</td>\n",
       "      <td>1.12</td>\n",
       "      <td>73.03</td>\n",
       "      <td>0.64</td>\n",
       "      <td>8.77</td>\n",
       "      <td>0.0</td>\n",
       "      <td>0.00</td>\n",
       "    </tr>\n",
       "    <tr>\n",
       "      <th>2</th>\n",
       "      <td>1.51643</td>\n",
       "      <td>12.16</td>\n",
       "      <td>3.52</td>\n",
       "      <td>1.35</td>\n",
       "      <td>72.89</td>\n",
       "      <td>0.57</td>\n",
       "      <td>8.53</td>\n",
       "      <td>0.0</td>\n",
       "      <td>0.00</td>\n",
       "    </tr>\n",
       "    <tr>\n",
       "      <th>3</th>\n",
       "      <td>1.51793</td>\n",
       "      <td>13.21</td>\n",
       "      <td>3.48</td>\n",
       "      <td>1.41</td>\n",
       "      <td>72.64</td>\n",
       "      <td>0.59</td>\n",
       "      <td>8.43</td>\n",
       "      <td>0.0</td>\n",
       "      <td>0.00</td>\n",
       "    </tr>\n",
       "    <tr>\n",
       "      <th>4</th>\n",
       "      <td>1.51299</td>\n",
       "      <td>14.40</td>\n",
       "      <td>1.74</td>\n",
       "      <td>1.54</td>\n",
       "      <td>74.55</td>\n",
       "      <td>0.00</td>\n",
       "      <td>7.59</td>\n",
       "      <td>0.0</td>\n",
       "      <td>0.00</td>\n",
       "    </tr>\n",
       "    <tr>\n",
       "      <th>5</th>\n",
       "      <td>1.53393</td>\n",
       "      <td>12.30</td>\n",
       "      <td>0.00</td>\n",
       "      <td>1.00</td>\n",
       "      <td>70.16</td>\n",
       "      <td>0.12</td>\n",
       "      <td>16.19</td>\n",
       "      <td>0.0</td>\n",
       "      <td>0.24</td>\n",
       "    </tr>\n",
       "  </tbody>\n",
       "</table>\n",
       "</div>"
      ],
      "text/plain": [
       "         1      2     3     4      5     6      7    8     9\n",
       "1  1.51793  12.79  3.50  1.12  73.03  0.64   8.77  0.0  0.00\n",
       "2  1.51643  12.16  3.52  1.35  72.89  0.57   8.53  0.0  0.00\n",
       "3  1.51793  13.21  3.48  1.41  72.64  0.59   8.43  0.0  0.00\n",
       "4  1.51299  14.40  1.74  1.54  74.55  0.00   7.59  0.0  0.00\n",
       "5  1.53393  12.30  0.00  1.00  70.16  0.12  16.19  0.0  0.24"
      ]
     },
     "execution_count": 105,
     "metadata": {},
     "output_type": "execute_result"
    }
   ],
   "source": [
    "# Converting dataset from numpy array to pandas dataframe\n",
    "x = pd.DataFrame(data=glass.data, \n",
    "                 index=np.array(range(1, 215)), \n",
    "                 columns=np.array(range(1, 10)))\n",
    "x.head()"
   ]
  },
  {
   "cell_type": "code",
   "execution_count": 106,
   "metadata": {},
   "outputs": [
    {
     "data": {
      "text/html": [
       "<div>\n",
       "<style scoped>\n",
       "    .dataframe tbody tr th:only-of-type {\n",
       "        vertical-align: middle;\n",
       "    }\n",
       "\n",
       "    .dataframe tbody tr th {\n",
       "        vertical-align: top;\n",
       "    }\n",
       "\n",
       "    .dataframe thead th {\n",
       "        text-align: right;\n",
       "    }\n",
       "</style>\n",
       "<table border=\"1\" class=\"dataframe\">\n",
       "  <thead>\n",
       "    <tr style=\"text-align: right;\">\n",
       "      <th></th>\n",
       "      <th>1</th>\n",
       "    </tr>\n",
       "  </thead>\n",
       "  <tbody>\n",
       "    <tr>\n",
       "      <th>1</th>\n",
       "      <td>build wind float</td>\n",
       "    </tr>\n",
       "    <tr>\n",
       "      <th>2</th>\n",
       "      <td>vehic wind float</td>\n",
       "    </tr>\n",
       "    <tr>\n",
       "      <th>3</th>\n",
       "      <td>build wind float</td>\n",
       "    </tr>\n",
       "    <tr>\n",
       "      <th>4</th>\n",
       "      <td>tableware</td>\n",
       "    </tr>\n",
       "    <tr>\n",
       "      <th>5</th>\n",
       "      <td>build wind non-float</td>\n",
       "    </tr>\n",
       "  </tbody>\n",
       "</table>\n",
       "</div>"
      ],
      "text/plain": [
       "                      1\n",
       "1      build wind float\n",
       "2      vehic wind float\n",
       "3      build wind float\n",
       "4             tableware\n",
       "5  build wind non-float"
      ]
     },
     "execution_count": 106,
     "metadata": {},
     "output_type": "execute_result"
    }
   ],
   "source": [
    "# Converting dataset from numpy array to pandas dataframe\n",
    "y = pd.DataFrame(data=glass.target, \n",
    "                 index=np.array(range(1, 215)),\n",
    "                 columns=np.array(range(1, 2)))\n",
    "y.head()"
   ]
  },
  {
   "cell_type": "code",
   "execution_count": 107,
   "metadata": {},
   "outputs": [],
   "source": [
    "# Convering target class into numerical form\n",
    "y[1] = y[1].replace(['build wind float', 'build wind non-float', \n",
    "                     'containers', 'tableware', 'headlamps', \n",
    "                     'vehic wind float'], [0,1,2,3,4,5])"
   ]
  },
  {
   "cell_type": "code",
   "execution_count": 108,
   "metadata": {},
   "outputs": [
    {
     "data": {
      "text/plain": [
       "numpy.int64"
      ]
     },
     "execution_count": 108,
     "metadata": {},
     "output_type": "execute_result"
    }
   ],
   "source": [
    "y  = y.apply(pd.to_numeric)\n",
    "type(y.iloc[0,0])"
   ]
  },
  {
   "cell_type": "code",
   "execution_count": 109,
   "metadata": {},
   "outputs": [
    {
     "data": {
      "image/png": "[encoded data removed]",
      "text/plain": [
       "<Figure size 432x288 with 1 Axes>"
      ]
     },
     "metadata": {
      "needs_background": "light"
     },
     "output_type": "display_data"
    }
   ],
   "source": [
    "plt.scatter(x.iloc[:,0],x.iloc[:,1], c = y.iloc[:,0], cmap='gist_rainbow')\n",
    "plt.xlabel('Spea1 Length', fontsize=18)\n",
    "plt.ylabel('Sepal Width', fontsize=18)\n",
    "plt.show()"
   ]
  },
  {
   "cell_type": "code",
   "execution_count": 110,
   "metadata": {},
   "outputs": [
    {
     "data": {
      "text/plain": [
       "DBSCAN(algorithm='auto', eps=0.3, leaf_size=30, metric='euclidean',\n",
       "       metric_params=None, min_samples=5, n_jobs=None, p=None)"
      ]
     },
     "execution_count": 110,
     "metadata": {},
     "output_type": "execute_result"
    }
   ],
   "source": [
    "db = DBSCAN(eps=0.3)\n",
    "db.fit(x)"
   ]
  },
  {
   "cell_type": "code",
   "execution_count": 111,
   "metadata": {},
   "outputs": [
    {
     "data": {
      "text/plain": [
       "array([ 0, -1,  0, -1, -1, -1, -1, -1, -1, -1,  0, -1, -1, -1, -1,  1, -1,\n",
       "       -1, -1, -1, -1, -1, -1,  0, -1, -1, -1, -1,  2,  0,  2, -1, -1,  1,\n",
       "        0,  2,  2, -1,  2, -1,  0, -1,  2, -1, -1,  0, -1,  0,  0,  0,  0,\n",
       "        0, -1,  2, -1, -1, -1, -1, -1,  3, -1, -1,  0, -1, -1, -1, -1, -1,\n",
       "       -1, -1, -1,  3, -1,  3, -1,  1,  0, -1,  0,  0,  0, -1, -1,  0, -1,\n",
       "       -1, -1, -1,  0, -1, -1,  0, -1, -1, -1, -1, -1, -1,  0, -1, -1, -1,\n",
       "       -1, -1, -1, -1, -1, -1, -1, -1, -1, -1, -1, -1,  0, -1, -1, -1, -1,\n",
       "       -1, -1, -1, -1, -1, -1,  0, -1, -1, -1,  0,  2,  2, -1,  0, -1, -1,\n",
       "       -1,  2, -1,  2,  0, -1, -1, -1,  2, -1, -1, -1, -1,  3, -1, -1, -1,\n",
       "        0,  0,  0, -1, -1, -1,  3, -1, -1, -1, -1, -1, -1,  0, -1,  0, -1,\n",
       "        0, -1, -1, -1, -1, -1, -1,  0, -1, -1,  2,  1, -1, -1,  0, -1,  0,\n",
       "       -1,  0, -1, -1, -1, -1, -1, -1, -1,  2, -1, -1,  2,  1, -1, -1,  0,\n",
       "       -1,  0, -1, -1,  0,  0, -1, -1, -1, -1], dtype=int64)"
      ]
     },
     "execution_count": 111,
     "metadata": {},
     "output_type": "execute_result"
    }
   ],
   "source": [
    "db.labels_"
   ]
  },
  {
   "cell_type": "code",
   "execution_count": 112,
   "metadata": {},
   "outputs": [],
   "source": [
    "pred_result = pd.DataFrame(data=db.labels_,\n",
    "          index=np.array(range(1, 215)),\n",
    "          columns=np.array(range(1, 2)))"
   ]
  },
  {
   "cell_type": "code",
   "execution_count": 113,
   "metadata": {},
   "outputs": [],
   "source": [
    "dbscan_silhouette = silhouette_score(x, \n",
    "                                     db.labels_).round (2)"
   ]
  },
  {
   "cell_type": "code",
   "execution_count": 114,
   "metadata": {},
   "outputs": [
    {
     "data": {
      "text/plain": [
       "-0.17"
      ]
     },
     "execution_count": 114,
     "metadata": {},
     "output_type": "execute_result"
    }
   ],
   "source": [
    "dbscan_silhouette"
   ]
  },
  {
   "cell_type": "code",
   "execution_count": 115,
   "metadata": {},
   "outputs": [],
   "source": [
    "ari_dbscan = adjusted_rand_score(y.iloc[:,0], db.labels_)"
   ]
  },
  {
   "cell_type": "code",
   "execution_count": 116,
   "metadata": {},
   "outputs": [
    {
     "data": {
      "text/plain": [
       "-0.029060324005921765"
      ]
     },
     "execution_count": 116,
     "metadata": {},
     "output_type": "execute_result"
    }
   ],
   "source": [
    "ari_dbscan"
   ]
  },
  {
   "cell_type": "code",
   "execution_count": 117,
   "metadata": {},
   "outputs": [
    {
     "name": "stdout",
     "output_type": "stream",
     "text": [
      "0.08970875637542304\n"
     ]
    },
    {
     "name": "stderr",
     "output_type": "stream",
     "text": [
      "C:\\Users\\aj\\Anaconda3\\lib\\site-packages\\sklearn\\metrics\\classification.py:1437: UndefinedMetricWarning: F-score is ill-defined and being set to 0.0 in labels with no predicted samples.\n",
      "  'precision', 'predicted', average, warn_for)\n",
      "C:\\Users\\aj\\Anaconda3\\lib\\site-packages\\sklearn\\metrics\\classification.py:1439: UndefinedMetricWarning: F-score is ill-defined and being set to 0.0 in labels with no true samples.\n",
      "  'recall', 'true', average, warn_for)\n"
     ]
    }
   ],
   "source": [
    "f1_sc = f1_score(y, pred_result, average = 'macro')\n",
    "print(f1_sc)"
   ]
  },
  {
   "cell_type": "code",
   "execution_count": 118,
   "metadata": {},
   "outputs": [
    {
     "data": {
      "image/png": "[encoded data removed]",
      "text/plain": [
       "<Figure size 1152x576 with 2 Axes>"
      ]
     },
     "metadata": {
      "needs_background": "light"
     },
     "output_type": "display_data"
    }
   ],
   "source": [
    "fig, axes = plt.subplots(1, 2, figsize=(16,8))\n",
    "axes[0].scatter(x.iloc[:, 0], x.iloc[:, 1], c=y.iloc[:,0], cmap='gist_rainbow',edgecolor='k', s=150)\n",
    "axes[1].scatter(x.iloc[:, 0], x.iloc[:, 1], c=pred_result.iloc[:,0], cmap='jet',edgecolor='k', s=150)\n",
    "plt.show()"
   ]
  },
  {
   "cell_type": "code",
   "execution_count": null,
   "metadata": {},
   "outputs": [],
   "source": []
  },
  {
   "cell_type": "code",
   "execution_count": null,
   "metadata": {},
   "outputs": [],
   "source": []
  }
 ],
 "metadata": {
  "kernelspec": {
   "display_name": "Python 3",
   "language": "python",
   "name": "python3"
  },
  "language_info": {
   "codemirror_mode": {
    "name": "ipython",
    "version": 3
   },
   "file_extension": ".py",
   "mimetype": "text/x-python",
   "name": "python",
   "nbconvert_exporter": "python",
   "pygments_lexer": "ipython3",
   "version": "3.7.3"
  }
 },
 "nbformat": 4,
 "nbformat_minor": 2
}
